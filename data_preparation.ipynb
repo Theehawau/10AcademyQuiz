{
 "cells": [
  {
   "cell_type": "code",
   "execution_count": null,
   "metadata": {},
   "outputs": [],
   "source": [
    "dataset = pd.read_json('covid19.json', lines=True)\n",
    "data = dataset.loc[:,['created_at', 'source', \n",
    "                       'lang','favorite_count','retweet_count',                     \n",
    "                       'possibly_sensitive','timestamp_ms']]\n",
    "data['original_text'] = dataset.iloc[:,3]\n",
    "data['clean_text'] =  dataset.iloc[:,3]\n",
    "\n",
    "data.to_csv(r'cleaned_fintech_data.csv')"
   ]
  },
  {
   "cell_type": "code",
   "execution_count": null,
   "metadata": {},
   "outputs": [],
   "source": []
  }
 ],
 "metadata": {
  "kernelspec": {
   "display_name": "Python 3",
   "language": "python",
   "name": "python3"
  },
  "language_info": {
   "codemirror_mode": {
    "name": "ipython",
    "version": 3
   },
   "file_extension": ".py",
   "mimetype": "text/x-python",
   "name": "python",
   "nbconvert_exporter": "python",
   "pygments_lexer": "ipython3",
   "version": "3.7.6"
  }
 },
 "nbformat": 4,
 "nbformat_minor": 4
}
